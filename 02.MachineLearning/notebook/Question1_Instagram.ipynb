{
 "cells": [
  {
   "cell_type": "markdown",
   "id": "5ba20c6e-3706-4003-9da6-33a4f2634bc2",
   "metadata": {},
   "source": [
    "Question: 1\n",
    "\n",
    "Imagine you have a dataset where you have different Instagram features like u sername , Caption , Hashtag , Followers , Time_Since_posted , and likes , now your task is to predict the number of likes and Time Since posted and the rest of the features are your input features. Now you have to build a model which can predict the number of likes and Time Since posted. \n",
    "\n",
    "Dataset : h"
   ]
  },
  {
   "cell_type": "code",
   "execution_count": null,
   "id": "103b7a4a-e6fb-4e5d-9a2b-be969ac90082",
   "metadata": {},
   "outputs": [],
   "source": []
  }
 ],
 "metadata": {
  "kernelspec": {
   "display_name": "Python3",
   "language": "python",
   "name": "python3"
  },
  "language_info": {
   "codemirror_mode": {
    "name": "ipython",
    "version": 3
   },
   "file_extension": ".py",
   "mimetype": "text/x-python",
   "name": "python",
   "nbconvert_exporter": "python",
   "pygments_lexer": "ipython3",
   "version": "3.11.5"
  }
 },
 "nbformat": 4,
 "nbformat_minor": 5
}
