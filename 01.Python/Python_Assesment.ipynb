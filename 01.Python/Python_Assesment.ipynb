{
 "cells": [
  {
   "cell_type": "markdown",
   "id": "a9203dd4-591c-468d-b2c1-2867f278e0b6",
   "metadata": {},
   "source": [
    "Question: 1\r\n",
    "\r\n",
    "\r\n",
    "You have an input dictionary given,\r\n",
    "\r\n",
    "input_dict = {\"abc\":{\"def\":{\"ghi\":{\"jkl\":{\"mno\":{\"pqr\":{\"stu\":{\"vwx\":{\"yz\":\"you are finally here !!!\"}}}}}}}}}\r\n",
    "\r\n",
    "Task:  You have to write a Python function that will take this input and print it like that,\r\n",
    "\r\n",
    "output = {\"abc\":[\"def\",\"ghi\",\"jkl\",\"mno\",\"pqr\",\"stu\",\"vwx\",\"yz\"],\r\n",
    " \"def\":[\"ghi\",\"jkl\",\"mno\",\"pqr\",\"stu\",\"vwx\",\"yz\"],\r\n",
    " \"ghi\":[\"jkl\",\"mno\",\"pqr\",\"stu\",\"vwx\",\"yz\"],\r\n",
    " \"jkl\":[\"mno\",\"pqr\",\"stu\",\"vwx\",\"yz\"],\r\n",
    " \"mno\":[\"pqr\",\"stu\",\"vwx\",\"yz\"],\r\n",
    " \"pqr\":[\"stu\",\"vwx\",\"yz\"],\r\n",
    " \"stu\":[\"vwx\",\"yz\"],\r\n",
    " \"vwx\":[\"yz\"],\r\n",
    " \"yz\":[\"you are finally here !!!\"]}\r\n"
   ]
  },
  {
   "cell_type": "code",
   "execution_count": 1,
   "id": "36af90b0-0c0b-4fc0-899d-6158dd8b1919",
   "metadata": {},
   "outputs": [],
   "source": [
    "input_dict = {\"abc\":{\"def\":{\"ghi\":{\"jkl\":{\"mno\":{\"pqr\":{\"stu\":{\"vwx\":{\"yz\":\"you are finally here !!!\"}}}}}}}}}"
   ]
  },
  {
   "cell_type": "code",
   "execution_count": 2,
   "id": "6b30bfa5-2864-4592-9e03-20788ebc0f9a",
   "metadata": {},
   "outputs": [
    {
     "data": {
      "text/plain": [
       "{'abc': {'def': {'ghi': {'jkl': {'mno': {'pqr': {'stu': {'vwx': {'yz': 'you are finally here !!!'}}}}}}}}}"
      ]
     },
     "execution_count": 2,
     "metadata": {},
     "output_type": "execute_result"
    }
   ],
   "source": [
    "input_dict"
   ]
  },
  {
   "cell_type": "code",
   "execution_count": 3,
   "id": "df449479-1c41-46bc-86dc-47ff3d762a8d",
   "metadata": {},
   "outputs": [
    {
     "data": {
      "text/plain": [
       "dict_keys(['abc'])"
      ]
     },
     "execution_count": 3,
     "metadata": {},
     "output_type": "execute_result"
    }
   ],
   "source": [
    "input_dict.keys()"
   ]
  },
  {
   "cell_type": "code",
   "execution_count": 4,
   "id": "fd03f365-4e57-4ce2-baa8-64e29ea1f058",
   "metadata": {},
   "outputs": [
    {
     "data": {
      "text/plain": [
       "dict_values([{'def': {'ghi': {'jkl': {'mno': {'pqr': {'stu': {'vwx': {'yz': 'you are finally here !!!'}}}}}}}}])"
      ]
     },
     "execution_count": 4,
     "metadata": {},
     "output_type": "execute_result"
    }
   ],
   "source": [
    "input_dict.values()"
   ]
  },
  {
   "cell_type": "code",
   "execution_count": 18,
   "id": "6cbcb562-3392-497b-964d-be0e9931f95a",
   "metadata": {},
   "outputs": [
    {
     "name": "stdout",
     "output_type": "stream",
     "text": [
      "{'def': {'ghi': {'jkl': {'mno': {'pqr': {'stu': {'vwx': {'yz': 'you are finally here !!!'}}}}}}}}\n",
      "dict_keys(['def'])\n",
      "dict_values([{'ghi': {'jkl': {'mno': {'pqr': {'stu': {'vwx': {'yz': 'you are finally here !!!'}}}}}}}])\n",
      "________________________________________________________________________________________________________________________\n"
     ]
    }
   ],
   "source": [
    "for i in input_dict.values():\n",
    "    print(i)\n",
    "    print(i.keys())\n",
    "    print(i.values())\n",
    "    print(\"_\"*120)"
   ]
  },
  {
   "cell_type": "code",
   "execution_count": 20,
   "id": "b98db898-5d37-44bd-8692-cfc55bf76b8a",
   "metadata": {},
   "outputs": [
    {
     "data": {
      "text/plain": [
       "dict_items([('abc', {'def': {'ghi': {'jkl': {'mno': {'pqr': {'stu': {'vwx': {'yz': 'you are finally here !!!'}}}}}}}})])"
      ]
     },
     "execution_count": 20,
     "metadata": {},
     "output_type": "execute_result"
    }
   ],
   "source": [
    "input_dict.items()"
   ]
  },
  {
   "cell_type": "code",
   "execution_count": 29,
   "id": "b1944aec-742a-45c2-91f9-b0d9579f83ea",
   "metadata": {},
   "outputs": [
    {
     "data": {
      "text/plain": [
       "[]"
      ]
     },
     "execution_count": 29,
     "metadata": {},
     "output_type": "execute_result"
    }
   ],
   "source": [
    "keys"
   ]
  },
  {
   "cell_type": "code",
   "execution_count": 21,
   "id": "69482ce1-83c7-447a-af37-d408502ea653",
   "metadata": {},
   "outputs": [
    {
     "name": "stdout",
     "output_type": "stream",
     "text": [
      "('abc', {'def': {'ghi': {'jkl': {'mno': {'pqr': {'stu': {'vwx': {'yz': 'you are finally here !!!'}}}}}}}})\n"
     ]
    }
   ],
   "source": [
    "for i in input_dict.items():\n",
    "    print(i)"
   ]
  },
  {
   "cell_type": "code",
   "execution_count": null,
   "id": "7b0e6b68-fb11-4e5b-bdb0-478bf1a5b93f",
   "metadata": {},
   "outputs": [],
   "source": []
  },
  {
   "cell_type": "code",
   "execution_count": null,
   "id": "2881e1c6-cfef-4186-9ac9-7aae4db3d911",
   "metadata": {},
   "outputs": [],
   "source": []
  },
  {
   "cell_type": "code",
   "execution_count": null,
   "id": "7fe808f9-ba2a-4fcb-b29a-e0249ce5dbfc",
   "metadata": {},
   "outputs": [],
   "source": []
  },
  {
   "cell_type": "code",
   "execution_count": null,
   "id": "e3aa8760-b84f-4d43-b7be-b3069c55c1ed",
   "metadata": {},
   "outputs": [],
   "source": []
  },
  {
   "cell_type": "code",
   "execution_count": null,
   "id": "560a0af4-b5e3-4273-ad7c-4880b911817e",
   "metadata": {},
   "outputs": [],
   "source": []
  },
  {
   "cell_type": "markdown",
   "id": "aead0598-9121-421c-8eb6-d6ea12c99100",
   "metadata": {},
   "source": [
    "Question: 2\r\n",
    "\r\n",
    "\r\n",
    "Given an array of length ‘N’, where each element denotes the position of a stall. Now you have ‘N’ stalls and an integer ‘K’ which denotes the number of horses that are mad. To prevent the horses from hurting each other, you need to assign the horses to the stalls, such that the minimum distance between any two of them is as large as possible. Return the largest minimum distance.\r\n",
    "\r\n",
    "array: 1,2,4,8,9  &  k=3\r\n",
    "\r\n",
    "O/P: 3\r\n",
    "\r\n",
    "Explanation: 1st horse at stall 1, 2nd horse at stall 4 and 3rd horse at stall 8\r\n"
   ]
  },
  {
   "cell_type": "code",
   "execution_count": null,
   "id": "91400275-52ee-4d51-af35-d23916af92b2",
   "metadata": {},
   "outputs": [],
   "source": []
  },
  {
   "cell_type": "code",
   "execution_count": null,
   "id": "9f18e953-388f-41ea-96fd-1f163adbc203",
   "metadata": {},
   "outputs": [],
   "source": []
  },
  {
   "cell_type": "code",
   "execution_count": null,
   "id": "e6bee671-1209-4e61-a9c1-6f92457d8402",
   "metadata": {},
   "outputs": [],
   "source": []
  },
  {
   "cell_type": "code",
   "execution_count": null,
   "id": "441421f1-e76e-40a7-85bd-05241a588bbd",
   "metadata": {},
   "outputs": [],
   "source": []
  },
  {
   "cell_type": "code",
   "execution_count": null,
   "id": "8c9b9db2-5f01-4189-bc28-b43321fca48d",
   "metadata": {},
   "outputs": [],
   "source": []
  },
  {
   "attachments": {
    "2d869584-77e1-47d5-a498-801c3b8bc94f.png": {
     "image/png": "[encoded data removed]"
    }
   },
   "cell_type": "markdown",
   "id": "c60487b0-7cd4-4601-8f7a-db5304579a01",
   "metadata": {},
   "source": [
    "Question: 3\n",
    "\n",
    "\n",
    "![pattern.png](attachment:2d869584-77e1-47d5-a498-801c3b8bc94f.png)\n",
    "\n",
    "Mr. Karthiken works in a door mat manufacturing company. One day, he designed a new door mat with the following specifications:\r\n",
    "\r\n",
    "             a) Mat size must be N X M. (N is an odd natural number, and M is 3 times N.)\r\n",
    "              b) The design should have ‘WELCOME’ written in the center.\r\n",
    "              c) The design pattern should only use |, . and – characters.\r\n",
    "\r\n",
    "    Sample Design is given above image, Write a python code for this."
   ]
  },
  {
   "cell_type": "code",
   "execution_count": null,
   "id": "50f6e7ee-05e6-4789-97c3-4c62c9427136",
   "metadata": {},
   "outputs": [],
   "source": []
  },
  {
   "cell_type": "code",
   "execution_count": null,
   "id": "5c44e926-19a8-4c7b-a414-d84810ef3d27",
   "metadata": {},
   "outputs": [],
   "source": []
  },
  {
   "cell_type": "code",
   "execution_count": null,
   "id": "f480dc44-eaf3-4c63-83d1-7e14845d141f",
   "metadata": {},
   "outputs": [],
   "source": []
  },
  {
   "cell_type": "code",
   "execution_count": null,
   "id": "88ffc0a1-81b8-42a3-bf33-70552c131db1",
   "metadata": {},
   "outputs": [],
   "source": []
  },
  {
   "cell_type": "code",
   "execution_count": null,
   "id": "12d7d736-d979-48e4-a333-e7ad77afebed",
   "metadata": {},
   "outputs": [],
   "source": []
  },
  {
   "cell_type": "code",
   "execution_count": null,
   "id": "0a059086-70f0-4d4a-b232-930cad92a15f",
   "metadata": {},
   "outputs": [],
   "source": []
  },
  {
   "cell_type": "code",
   "execution_count": null,
   "id": "2f880ea3-d2f0-40b2-9ad1-d2ae18b7d56f",
   "metadata": {},
   "outputs": [],
   "source": []
  },
  {
   "cell_type": "markdown",
   "id": "66dc3524-6489-4d3e-90bd-80f7a71302eb",
   "metadata": {},
   "source": [
    "Question: 4\r\n",
    "\r\n",
    "Given an array nums of n integers, return an array of all the unique quadruplets [nums[a], nums[b], nums[c], nums[d]] such that:\r\n",
    "\r\n",
    "   a) 0 <= a, b, c, d < n\r\n",
    "   b) a, b, c, and d are distinct.\r\n",
    "   c) nums[a] + nums[b] + nums[c] + nums[d] == target"
   ]
  },
  {
   "cell_type": "code",
   "execution_count": null,
   "id": "1a67337b-e618-42d2-905e-348def7e7ed2",
   "metadata": {},
   "outputs": [],
   "source": []
  },
  {
   "cell_type": "code",
   "execution_count": null,
   "id": "aa9bfac5-454e-4851-bced-05941e4fb695",
   "metadata": {},
   "outputs": [],
   "source": []
  },
  {
   "cell_type": "code",
   "execution_count": null,
   "id": "05105f45-d218-4e50-979c-af8beb2940c3",
   "metadata": {},
   "outputs": [],
   "source": []
  },
  {
   "cell_type": "code",
   "execution_count": null,
   "id": "5750a690-ab81-471e-a36f-8c5273142e84",
   "metadata": {},
   "outputs": [],
   "source": []
  }
 ],
 "metadata": {
  "kernelspec": {
   "display_name": "Python3",
   "language": "python",
   "name": "python3"
  },
  "language_info": {
   "codemirror_mode": {
    "name": "ipython",
    "version": 3
   },
   "file_extension": ".py",
   "mimetype": "text/x-python",
   "name": "python",
   "nbconvert_exporter": "python",
   "pygments_lexer": "ipython3",
   "version": "3.11.5"
  }
 },
 "nbformat": 4,
 "nbformat_minor": 5
}
